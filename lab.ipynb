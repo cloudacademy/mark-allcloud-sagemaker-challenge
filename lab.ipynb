{
 "cells": [
  {
   "cell_type": "markdown",
   "metadata": {},
   "source": [
    "## Introduction\n",
    "In this notebook you will work with [US flight delay data](https://www.transtats.bts.gov/Tables.asp?DB_ID=120&DB_Name=Airline%20On-Time%20Performance%20Data&DB_Short_Name=On-Time) to develop a model that can forecast flight delays. You will create a regression model to forecast the number of minutes a given flight will be delayed.\n",
    "\n",
    "Raw flight delay data is provided to you in an Amazon S3 bucket. The data you will use is a sample of the total flight data available in order to keep the runtimes reasonably short for a more fluid lab experience.\n",
    "You will find the flights data at: `https://clouda-labs-assets.s3-us-west-2.amazonaws.com/sagemaker-notebooks/Flights.csv`\n"
   ]
  },
  {
   "cell_type": "markdown",
   "metadata": {},
   "source": [
    "## Updating Python Dependencies\n",
    "\n",
    "Given you will use Python to perform your tasks, you should ensure you are using\n",
    "the following dependencies and related versions, which are known to work for this purpose.\n",
    "\n",
    "- boto3 version 1.26.43\n",
    "- sagemaker version 2.127.0"
   ]
  },
  {
   "cell_type": "markdown",
   "metadata": {},
   "source": [
    "## Performing the tasks \n",
    "    \n",
    "Use the following code block to implement the necessary steps to download the\n",
    "flight data, review the data and its format, \n",
    "\n",
    "Here are some additional guidelines and details.\n",
    "\n",
    "- An S3 bucket has been provided for you to utilize\n",
    "- Some columns are not required and can be dropped to imporove training times.\n",
    "These include: `YEAR`, `TAIL_NUM`, `FL_NUM`, and `DEST`\n",
    "- Split data into training and test sets (60%/40% deterministic split)\n",
    "- Use the [linear-learner algorithm](https://docs.aws.amazon.com/sagemaker/latest/dg/linear-learner.html) for training\n",
    "- Your objective is to produce a model that can predict the delay to within eight\n",
    "minutes of the actual delay.\n",
    "\n",
    "\n",
    "## Your workspace\n",
    "NOTE: You may want to break your tasks into multiple code blocks.\n",
    "You are able to add additional blocks to this notebook if you prefer."
   ]
  },
  {
   "cell_type": "code",
   "execution_count": null,
   "metadata": {},
   "outputs": [],
   "source": []
  }
 ],
 "metadata": {
  "kernelspec": {
   "display_name": "conda_python3",
   "language": "python",
   "name": "conda_python3"
  },
  "language_info": {
   "codemirror_mode": {
    "name": "ipython",
    "version": 3
   },
   "file_extension": ".py",
   "mimetype": "text/x-python",
   "name": "python",
   "nbconvert_exporter": "python",
   "pygments_lexer": "ipython3",
   "version": "3.10.12"
  }
 },
 "nbformat": 4,
 "nbformat_minor": 4
}
